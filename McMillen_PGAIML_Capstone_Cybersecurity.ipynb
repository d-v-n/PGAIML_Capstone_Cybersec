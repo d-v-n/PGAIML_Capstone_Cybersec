{
  "nbformat": 4,
  "nbformat_minor": 0,
  "metadata": {
    "colab": {
      "name": "McMillen_PGAIML_Capstone_Cybersecurity",
      "provenance": [],
      "collapsed_sections": []
    },
    "kernelspec": {
      "name": "python3",
      "display_name": "Python 3"
    },
    "language_info": {
      "name": "python"
    }
  },
  "cells": [
    {
      "cell_type": "markdown",
      "source": [
        "### Problem Statement:\n",
        "\n",
        "Book-My-Show will enable the ads on their website, but they are also very cautious about their user privacy and information who visit their website. Some ads URL could contain a malicious link that can trick any recipient and lead to a malware installation, freezing the system as part of a ransomware attack or revealing sensitive information. Book-My-Show now wants to analyze that whether the particular URL is prone to phishing (malicious) or not.\n",
        "\n",
        " \n",
        "\n",
        "#### Dataset Details: \n",
        "\n",
        "The input dataset contains an 11k sample corresponding to the 11k URL. Each sample contains 32 features that give a different and unique description of URL ranging from -1,0,1.\n",
        "\n",
        " 1: Phishing\n",
        "\n",
        " 0: Suspicious\n",
        "\n",
        " 1: Legitimate\n",
        "\n",
        "The sample could be either legitimate or phishing.\n",
        "\n",
        " \n",
        "\n",
        "#### Project Task: Week 1\n",
        "\n",
        "Exploratory Data Analysis:\n",
        "\n",
        "    Each sample has 32 features ranging from -1,0,1. Explore the data using histogram, heatmaps. \n",
        "\n",
        "    Determine the number of samples present in the data, unique elements in all the features. \n",
        "\n",
        "    Check if there is any null value in any features. \n",
        "\n",
        "Correlation of features and feature selection:\n",
        "\n",
        "    Next, we have to find if there are any correlated features present in the data. Remove the feature which might be correlated with some threshold.\n",
        "\n",
        " \n",
        "\n",
        "#### Project Task: Week 2\n",
        "\n",
        "Building Classification Model\n",
        "\n",
        "    Finally, build a robust classification system that classifies whether the URL sample is a phishing site or not.\n",
        "\n",
        "    Build classification models using a binary classifier to detect malicious or phishing URLs.\n",
        "\n",
        "    Illustrate the diagnostic ability of this binary classifier by plotting the ROC curve.\n",
        "\n",
        "    Validate the accuracy of data by the K-Fold cross-validation technique.\n",
        "\n",
        "    The final output consists of the model, which will give maximum accuracy on the validation dataset with selected attributes.\n"
      ],
      "metadata": {
        "id": "V5qbQOssTpw3"
      }
    },
    {
      "cell_type": "markdown",
      "source": [
        "# **Code**"
      ],
      "metadata": {
        "id": "_49BLJH6TmD4"
      }
    },
    {
      "cell_type": "markdown",
      "source": [
        "### EDA"
      ],
      "metadata": {
        "id": "31YJA7AvMovW"
      }
    },
    {
      "cell_type": "code",
      "source": [
        "import pandas as pd\n",
        "import numpy as np\n",
        "import matplotlib.pyplot as plt\n",
        "import seaborn as sns\n",
        "from sklearn.model_selection import train_test_split, cross_val_score\n",
        "from sklearn.tree import DecisionTreeClassifier\n",
        "from sklearn import metrics\n",
        "from sklearn.metrics import confusion_matrix, accuracy_score, roc_auc_score, roc_curve"
      ],
      "metadata": {
        "id": "q4kpeqZzzAt_"
      },
      "execution_count": null,
      "outputs": []
    },
    {
      "cell_type": "code",
      "source": [
        "raw_data = pd.read_csv(\"dataset.csv\") "
      ],
      "metadata": {
        "id": "Ga8iC6vgZhwJ"
      },
      "execution_count": null,
      "outputs": []
    },
    {
      "cell_type": "code",
      "source": [
        "raw_data.info()"
      ],
      "metadata": {
        "colab": {
          "base_uri": "https://localhost:8080/"
        },
        "id": "0tpcefm3fEuS",
        "outputId": "c8f18e0c-4830-4338-88da-b56e02a5424e"
      },
      "execution_count": null,
      "outputs": [
        {
          "output_type": "stream",
          "name": "stdout",
          "text": [
            "<class 'pandas.core.frame.DataFrame'>\n",
            "RangeIndex: 11055 entries, 0 to 11054\n",
            "Data columns (total 32 columns):\n",
            " #   Column                       Non-Null Count  Dtype\n",
            "---  ------                       --------------  -----\n",
            " 0   index                        11055 non-null  int64\n",
            " 1   having_IPhaving_IP_Address   11055 non-null  int64\n",
            " 2   URLURL_Length                11055 non-null  int64\n",
            " 3   Shortining_Service           11055 non-null  int64\n",
            " 4   having_At_Symbol             11055 non-null  int64\n",
            " 5   double_slash_redirecting     11055 non-null  int64\n",
            " 6   Prefix_Suffix                11055 non-null  int64\n",
            " 7   having_Sub_Domain            11055 non-null  int64\n",
            " 8   SSLfinal_State               11055 non-null  int64\n",
            " 9   Domain_registeration_length  11055 non-null  int64\n",
            " 10  Favicon                      11055 non-null  int64\n",
            " 11  port                         11055 non-null  int64\n",
            " 12  HTTPS_token                  11055 non-null  int64\n",
            " 13  Request_URL                  11055 non-null  int64\n",
            " 14  URL_of_Anchor                11055 non-null  int64\n",
            " 15  Links_in_tags                11055 non-null  int64\n",
            " 16  SFH                          11055 non-null  int64\n",
            " 17  Submitting_to_email          11055 non-null  int64\n",
            " 18  Abnormal_URL                 11055 non-null  int64\n",
            " 19  Redirect                     11055 non-null  int64\n",
            " 20  on_mouseover                 11055 non-null  int64\n",
            " 21  RightClick                   11055 non-null  int64\n",
            " 22  popUpWidnow                  11055 non-null  int64\n",
            " 23  Iframe                       11055 non-null  int64\n",
            " 24  age_of_domain                11055 non-null  int64\n",
            " 25  DNSRecord                    11055 non-null  int64\n",
            " 26  web_traffic                  11055 non-null  int64\n",
            " 27  Page_Rank                    11055 non-null  int64\n",
            " 28  Google_Index                 11055 non-null  int64\n",
            " 29  Links_pointing_to_page       11055 non-null  int64\n",
            " 30  Statistical_report           11055 non-null  int64\n",
            " 31  Result                       11055 non-null  int64\n",
            "dtypes: int64(32)\n",
            "memory usage: 2.7 MB\n"
          ]
        }
      ]
    },
    {
      "cell_type": "markdown",
      "source": [
        "Shows that for the 31 variables, there are no NaN values."
      ],
      "metadata": {
        "id": "Jj6TeU7vWKR0"
      }
    },
    {
      "cell_type": "code",
      "source": [
        "raw_data.head()"
      ],
      "metadata": {
        "colab": {
          "base_uri": "https://localhost:8080/",
          "height": 300
        },
        "id": "HE_QfY2OZjWz",
        "outputId": "d2132db8-2f7f-4eff-eed7-29f49428712b"
      },
      "execution_count": null,
      "outputs": [
        {
          "output_type": "execute_result",
          "data": {
            "text/plain": [
              "   index  having_IPhaving_IP_Address  URLURL_Length  Shortining_Service  \\\n",
              "0      1                          -1              1                   1   \n",
              "1      2                           1              1                   1   \n",
              "2      3                           1              0                   1   \n",
              "3      4                           1              0                   1   \n",
              "4      5                           1              0                  -1   \n",
              "\n",
              "   having_At_Symbol  double_slash_redirecting  Prefix_Suffix  \\\n",
              "0                 1                        -1             -1   \n",
              "1                 1                         1             -1   \n",
              "2                 1                         1             -1   \n",
              "3                 1                         1             -1   \n",
              "4                 1                         1             -1   \n",
              "\n",
              "   having_Sub_Domain  SSLfinal_State  Domain_registeration_length  ...  \\\n",
              "0                 -1              -1                           -1  ...   \n",
              "1                  0               1                           -1  ...   \n",
              "2                 -1              -1                           -1  ...   \n",
              "3                 -1              -1                            1  ...   \n",
              "4                  1               1                           -1  ...   \n",
              "\n",
              "   popUpWidnow  Iframe  age_of_domain  DNSRecord  web_traffic  Page_Rank  \\\n",
              "0            1       1             -1         -1           -1         -1   \n",
              "1            1       1             -1         -1            0         -1   \n",
              "2            1       1              1         -1            1         -1   \n",
              "3            1       1             -1         -1            1         -1   \n",
              "4           -1       1             -1         -1            0         -1   \n",
              "\n",
              "   Google_Index  Links_pointing_to_page  Statistical_report  Result  \n",
              "0             1                       1                  -1      -1  \n",
              "1             1                       1                   1      -1  \n",
              "2             1                       0                  -1      -1  \n",
              "3             1                      -1                   1      -1  \n",
              "4             1                       1                   1       1  \n",
              "\n",
              "[5 rows x 32 columns]"
            ],
            "text/html": [
              "\n",
              "  <div id=\"df-61691bdf-9ecf-4843-af40-de92ce8da87f\">\n",
              "    <div class=\"colab-df-container\">\n",
              "      <div>\n",
              "<style scoped>\n",
              "    .dataframe tbody tr th:only-of-type {\n",
              "        vertical-align: middle;\n",
              "    }\n",
              "\n",
              "    .dataframe tbody tr th {\n",
              "        vertical-align: top;\n",
              "    }\n",
              "\n",
              "    .dataframe thead th {\n",
              "        text-align: right;\n",
              "    }\n",
              "</style>\n",
              "<table border=\"1\" class=\"dataframe\">\n",
              "  <thead>\n",
              "    <tr style=\"text-align: right;\">\n",
              "      <th></th>\n",
              "      <th>index</th>\n",
              "      <th>having_IPhaving_IP_Address</th>\n",
              "      <th>URLURL_Length</th>\n",
              "      <th>Shortining_Service</th>\n",
              "      <th>having_At_Symbol</th>\n",
              "      <th>double_slash_redirecting</th>\n",
              "      <th>Prefix_Suffix</th>\n",
              "      <th>having_Sub_Domain</th>\n",
              "      <th>SSLfinal_State</th>\n",
              "      <th>Domain_registeration_length</th>\n",
              "      <th>...</th>\n",
              "      <th>popUpWidnow</th>\n",
              "      <th>Iframe</th>\n",
              "      <th>age_of_domain</th>\n",
              "      <th>DNSRecord</th>\n",
              "      <th>web_traffic</th>\n",
              "      <th>Page_Rank</th>\n",
              "      <th>Google_Index</th>\n",
              "      <th>Links_pointing_to_page</th>\n",
              "      <th>Statistical_report</th>\n",
              "      <th>Result</th>\n",
              "    </tr>\n",
              "  </thead>\n",
              "  <tbody>\n",
              "    <tr>\n",
              "      <th>0</th>\n",
              "      <td>1</td>\n",
              "      <td>-1</td>\n",
              "      <td>1</td>\n",
              "      <td>1</td>\n",
              "      <td>1</td>\n",
              "      <td>-1</td>\n",
              "      <td>-1</td>\n",
              "      <td>-1</td>\n",
              "      <td>-1</td>\n",
              "      <td>-1</td>\n",
              "      <td>...</td>\n",
              "      <td>1</td>\n",
              "      <td>1</td>\n",
              "      <td>-1</td>\n",
              "      <td>-1</td>\n",
              "      <td>-1</td>\n",
              "      <td>-1</td>\n",
              "      <td>1</td>\n",
              "      <td>1</td>\n",
              "      <td>-1</td>\n",
              "      <td>-1</td>\n",
              "    </tr>\n",
              "    <tr>\n",
              "      <th>1</th>\n",
              "      <td>2</td>\n",
              "      <td>1</td>\n",
              "      <td>1</td>\n",
              "      <td>1</td>\n",
              "      <td>1</td>\n",
              "      <td>1</td>\n",
              "      <td>-1</td>\n",
              "      <td>0</td>\n",
              "      <td>1</td>\n",
              "      <td>-1</td>\n",
              "      <td>...</td>\n",
              "      <td>1</td>\n",
              "      <td>1</td>\n",
              "      <td>-1</td>\n",
              "      <td>-1</td>\n",
              "      <td>0</td>\n",
              "      <td>-1</td>\n",
              "      <td>1</td>\n",
              "      <td>1</td>\n",
              "      <td>1</td>\n",
              "      <td>-1</td>\n",
              "    </tr>\n",
              "    <tr>\n",
              "      <th>2</th>\n",
              "      <td>3</td>\n",
              "      <td>1</td>\n",
              "      <td>0</td>\n",
              "      <td>1</td>\n",
              "      <td>1</td>\n",
              "      <td>1</td>\n",
              "      <td>-1</td>\n",
              "      <td>-1</td>\n",
              "      <td>-1</td>\n",
              "      <td>-1</td>\n",
              "      <td>...</td>\n",
              "      <td>1</td>\n",
              "      <td>1</td>\n",
              "      <td>1</td>\n",
              "      <td>-1</td>\n",
              "      <td>1</td>\n",
              "      <td>-1</td>\n",
              "      <td>1</td>\n",
              "      <td>0</td>\n",
              "      <td>-1</td>\n",
              "      <td>-1</td>\n",
              "    </tr>\n",
              "    <tr>\n",
              "      <th>3</th>\n",
              "      <td>4</td>\n",
              "      <td>1</td>\n",
              "      <td>0</td>\n",
              "      <td>1</td>\n",
              "      <td>1</td>\n",
              "      <td>1</td>\n",
              "      <td>-1</td>\n",
              "      <td>-1</td>\n",
              "      <td>-1</td>\n",
              "      <td>1</td>\n",
              "      <td>...</td>\n",
              "      <td>1</td>\n",
              "      <td>1</td>\n",
              "      <td>-1</td>\n",
              "      <td>-1</td>\n",
              "      <td>1</td>\n",
              "      <td>-1</td>\n",
              "      <td>1</td>\n",
              "      <td>-1</td>\n",
              "      <td>1</td>\n",
              "      <td>-1</td>\n",
              "    </tr>\n",
              "    <tr>\n",
              "      <th>4</th>\n",
              "      <td>5</td>\n",
              "      <td>1</td>\n",
              "      <td>0</td>\n",
              "      <td>-1</td>\n",
              "      <td>1</td>\n",
              "      <td>1</td>\n",
              "      <td>-1</td>\n",
              "      <td>1</td>\n",
              "      <td>1</td>\n",
              "      <td>-1</td>\n",
              "      <td>...</td>\n",
              "      <td>-1</td>\n",
              "      <td>1</td>\n",
              "      <td>-1</td>\n",
              "      <td>-1</td>\n",
              "      <td>0</td>\n",
              "      <td>-1</td>\n",
              "      <td>1</td>\n",
              "      <td>1</td>\n",
              "      <td>1</td>\n",
              "      <td>1</td>\n",
              "    </tr>\n",
              "  </tbody>\n",
              "</table>\n",
              "<p>5 rows × 32 columns</p>\n",
              "</div>\n",
              "      <button class=\"colab-df-convert\" onclick=\"convertToInteractive('df-61691bdf-9ecf-4843-af40-de92ce8da87f')\"\n",
              "              title=\"Convert this dataframe to an interactive table.\"\n",
              "              style=\"display:none;\">\n",
              "        \n",
              "  <svg xmlns=\"http://www.w3.org/2000/svg\" height=\"24px\"viewBox=\"0 0 24 24\"\n",
              "       width=\"24px\">\n",
              "    <path d=\"M0 0h24v24H0V0z\" fill=\"none\"/>\n",
              "    <path d=\"M18.56 5.44l.94 2.06.94-2.06 2.06-.94-2.06-.94-.94-2.06-.94 2.06-2.06.94zm-11 1L8.5 8.5l.94-2.06 2.06-.94-2.06-.94L8.5 2.5l-.94 2.06-2.06.94zm10 10l.94 2.06.94-2.06 2.06-.94-2.06-.94-.94-2.06-.94 2.06-2.06.94z\"/><path d=\"M17.41 7.96l-1.37-1.37c-.4-.4-.92-.59-1.43-.59-.52 0-1.04.2-1.43.59L10.3 9.45l-7.72 7.72c-.78.78-.78 2.05 0 2.83L4 21.41c.39.39.9.59 1.41.59.51 0 1.02-.2 1.41-.59l7.78-7.78 2.81-2.81c.8-.78.8-2.07 0-2.86zM5.41 20L4 18.59l7.72-7.72 1.47 1.35L5.41 20z\"/>\n",
              "  </svg>\n",
              "      </button>\n",
              "      \n",
              "  <style>\n",
              "    .colab-df-container {\n",
              "      display:flex;\n",
              "      flex-wrap:wrap;\n",
              "      gap: 12px;\n",
              "    }\n",
              "\n",
              "    .colab-df-convert {\n",
              "      background-color: #E8F0FE;\n",
              "      border: none;\n",
              "      border-radius: 50%;\n",
              "      cursor: pointer;\n",
              "      display: none;\n",
              "      fill: #1967D2;\n",
              "      height: 32px;\n",
              "      padding: 0 0 0 0;\n",
              "      width: 32px;\n",
              "    }\n",
              "\n",
              "    .colab-df-convert:hover {\n",
              "      background-color: #E2EBFA;\n",
              "      box-shadow: 0px 1px 2px rgba(60, 64, 67, 0.3), 0px 1px 3px 1px rgba(60, 64, 67, 0.15);\n",
              "      fill: #174EA6;\n",
              "    }\n",
              "\n",
              "    [theme=dark] .colab-df-convert {\n",
              "      background-color: #3B4455;\n",
              "      fill: #D2E3FC;\n",
              "    }\n",
              "\n",
              "    [theme=dark] .colab-df-convert:hover {\n",
              "      background-color: #434B5C;\n",
              "      box-shadow: 0px 1px 3px 1px rgba(0, 0, 0, 0.15);\n",
              "      filter: drop-shadow(0px 1px 2px rgba(0, 0, 0, 0.3));\n",
              "      fill: #FFFFFF;\n",
              "    }\n",
              "  </style>\n",
              "\n",
              "      <script>\n",
              "        const buttonEl =\n",
              "          document.querySelector('#df-61691bdf-9ecf-4843-af40-de92ce8da87f button.colab-df-convert');\n",
              "        buttonEl.style.display =\n",
              "          google.colab.kernel.accessAllowed ? 'block' : 'none';\n",
              "\n",
              "        async function convertToInteractive(key) {\n",
              "          const element = document.querySelector('#df-61691bdf-9ecf-4843-af40-de92ce8da87f');\n",
              "          const dataTable =\n",
              "            await google.colab.kernel.invokeFunction('convertToInteractive',\n",
              "                                                     [key], {});\n",
              "          if (!dataTable) return;\n",
              "\n",
              "          const docLinkHtml = 'Like what you see? Visit the ' +\n",
              "            '<a target=\"_blank\" href=https://colab.research.google.com/notebooks/data_table.ipynb>data table notebook</a>'\n",
              "            + ' to learn more about interactive tables.';\n",
              "          element.innerHTML = '';\n",
              "          dataTable['output_type'] = 'display_data';\n",
              "          await google.colab.output.renderOutput(dataTable, element);\n",
              "          const docLink = document.createElement('div');\n",
              "          docLink.innerHTML = docLinkHtml;\n",
              "          element.appendChild(docLink);\n",
              "        }\n",
              "      </script>\n",
              "    </div>\n",
              "  </div>\n",
              "  "
            ]
          },
          "metadata": {},
          "execution_count": 5
        }
      ]
    },
    {
      "cell_type": "code",
      "source": [
        "x = raw_data.iloc[:, :-1] #all rows\n",
        "y = raw_data.iloc[:, -1] #last column\n",
        "\n",
        "#histogram\n",
        "sns.histplot(y)\n",
        "plt.show()"
      ],
      "metadata": {
        "colab": {
          "base_uri": "https://localhost:8080/",
          "height": 279
        },
        "id": "ZhlVHYW6ejB5",
        "outputId": "df92fed1-1346-4c06-cbfd-bd9b3bcc4f58"
      },
      "execution_count": null,
      "outputs": [
        {
          "output_type": "display_data",
          "data": {
            "text/plain": [
              "<Figure size 432x288 with 1 Axes>"
            ],
            "image/png": "[encoded data removed]"
          },
          "metadata": {
            "needs_background": "light"
          }
        }
      ]
    },
    {
      "cell_type": "code",
      "source": [
        "%matplotlib inline\n",
        "\n",
        "#heatmap of correlated variables:\n",
        "corr = raw_data.corr()\n",
        "plt.figure(figsize = (12,8)) #wanted to make it bigger for easier visualization\n",
        "sns.heatmap(corr)\n",
        "plt.show()"
      ],
      "metadata": {
        "colab": {
          "base_uri": "https://localhost:8080/",
          "height": 621
        },
        "id": "9i0TaG2eVX_Z",
        "outputId": "b0fff61d-bced-481d-c664-25272959d380"
      },
      "execution_count": null,
      "outputs": [
        {
          "output_type": "display_data",
          "data": {
            "text/plain": [
              "<Figure size 864x576 with 2 Axes>"
            ],
            "image/png": "[encoded data removed]"
          },
          "metadata": {
            "needs_background": "light"
          }
        }
      ]
    },
    {
      "cell_type": "markdown",
      "source": [
        "We see that a couple are highly correlated, like *popUpWidnow* and *Favicon*"
      ],
      "metadata": {
        "id": "KTp3cnQZVzBk"
      }
    },
    {
      "cell_type": "code",
      "source": [
        "#removing correlated columns from the dataset:\n",
        "\n",
        "data1 = raw_data.drop(['popUpWidnow','Favicon'], axis = 'columns', inplace = True)\n"
      ],
      "metadata": {
        "id": "oA6ePGy3V7fT"
      },
      "execution_count": null,
      "outputs": []
    },
    {
      "cell_type": "markdown",
      "source": [
        "### Model"
      ],
      "metadata": {
        "id": "qDwqYE_waAoO"
      }
    },
    {
      "cell_type": "code",
      "source": [
        "x_train, x_test, y_train, y_test = train_test_split(x, y, test_size = 0.25, random_state = 0)"
      ],
      "metadata": {
        "id": "RFK3iccFbdf1"
      },
      "execution_count": null,
      "outputs": []
    },
    {
      "cell_type": "code",
      "source": [
        "model = DecisionTreeClassifier()\n",
        "\n",
        "model.fit(x_train, y_train)"
      ],
      "metadata": {
        "colab": {
          "base_uri": "https://localhost:8080/"
        },
        "id": "38shVtZBb7JV",
        "outputId": "2746c629-ebe0-4e4b-c6dc-a6a01e7aced9"
      },
      "execution_count": null,
      "outputs": [
        {
          "output_type": "execute_result",
          "data": {
            "text/plain": [
              "DecisionTreeClassifier()"
            ]
          },
          "metadata": {},
          "execution_count": 25
        }
      ]
    },
    {
      "cell_type": "code",
      "source": [
        "y_pred = model.predict(x_test)\n",
        "\n",
        "print(metrics.classification_report(y_pred, y_test))\n",
        "\n",
        "print(\"\\n\\nAccuracy Score:\", metrics.accuracy_score(y_test, y_pred).round(2)*100, \"%\")"
      ],
      "metadata": {
        "colab": {
          "base_uri": "https://localhost:8080/"
        },
        "id": "SIrQJVs9cP_U",
        "outputId": "a4fff63d-4cfa-4653-963e-4ba880bb525f"
      },
      "execution_count": null,
      "outputs": [
        {
          "output_type": "stream",
          "name": "stdout",
          "text": [
            "              precision    recall  f1-score   support\n",
            "\n",
            "          -1       0.94      0.95      0.94      1234\n",
            "           1       0.96      0.95      0.95      1530\n",
            "\n",
            "    accuracy                           0.95      2764\n",
            "   macro avg       0.95      0.95      0.95      2764\n",
            "weighted avg       0.95      0.95      0.95      2764\n",
            "\n",
            "\n",
            "\n",
            "Accuracy Score: 95.0 %\n"
          ]
        }
      ]
    },
    {
      "cell_type": "code",
      "source": [
        "mat = confusion_matrix(y_test, y_pred)\n",
        "\n",
        "sns.heatmap(mat.T, square=True, annot=True, fmt='d', cbar=False)\n",
        "\n",
        "plt.xlabel('true label')\n",
        "\n",
        "plt.ylabel('predicted label');\n",
        "\n",
        "#plt.savefig(confusion_matrix_file)"
      ],
      "metadata": {
        "colab": {
          "base_uri": "https://localhost:8080/",
          "height": 279
        },
        "id": "fIshlRVqcZYu",
        "outputId": "bd27e236-efb4-4d14-db74-401bd7062f60"
      },
      "execution_count": null,
      "outputs": [
        {
          "output_type": "display_data",
          "data": {
            "text/plain": [
              "<Figure size 432x288 with 1 Axes>"
            ],
            "image/png": "[encoded data removed]"
          },
          "metadata": {
            "needs_background": "light"
          }
        }
      ]
    },
    {
      "cell_type": "markdown",
      "source": [
        "True positives:1452\n",
        "True negatives:1174\n",
        "Fals positives (type 1 errors):63\n",
        "True negatives (type 2 errors):75"
      ],
      "metadata": {
        "id": "s7T6wB2BdOZh"
      }
    },
    {
      "cell_type": "code",
      "source": [
        "#Area Under Curve (AUC) and Receiver Operating Characteristics (ROC):\n",
        "'''In statistics, a receiver operating characteristic curve, i.e. ROC curve,\n",
        "is a graphical plot that illustrates the diagnostic ability of a binary classifier\n",
        "system as its discrimination threshold is varied. (wiki)\n",
        "'''\n",
        "\n",
        "probs = model.predict_proba(x_test)[:,1]\n",
        "fpr, tpr, threshold = metrics.roc_curve(y_test, probs)\n",
        "roc_auc = metrics.auc(fpr, tpr)\n",
        "\n",
        "plt.plot(fpr,tpr,label=\"data, auc=\"+str(auc))\n",
        "plt.legend(loc=4)\n",
        "plt.show()\n",
        "\n",
        "plt.title('Receiver Operating Characteristic')\n",
        "plt.plot(fpr, tpr, 'b', label = 'AUC = %0.2f' % roc_auc)\n",
        "plt.legend(loc = 'lower right')\n",
        "plt.plot([0, 1], [0, 1],'r--')\n",
        "plt.xlim([0, 1])\n",
        "plt.ylim([0, 1])\n",
        "plt.ylabel('True Positive Rate')\n",
        "plt.xlabel('False Positive Rate')\n",
        "plt.show()"
      ],
      "metadata": {
        "colab": {
          "base_uri": "https://localhost:8080/",
          "height": 543
        },
        "id": "xXR6TFFQcMb7",
        "outputId": "8ca691bf-c026-4b94-b5de-6a3660e4eb57"
      },
      "execution_count": null,
      "outputs": [
        {
          "output_type": "display_data",
          "data": {
            "text/plain": [
              "<Figure size 432x288 with 1 Axes>"
            ],
            "image/png": "[encoded data removed]"
          },
          "metadata": {
            "needs_background": "light"
          }
        },
        {
          "output_type": "display_data",
          "data": {
            "text/plain": [
              "<Figure size 432x288 with 1 Axes>"
            ],
            "image/png": "[encoded data removed]"
          },
          "metadata": {
            "needs_background": "light"
          }
        }
      ]
    },
    {
      "cell_type": "code",
      "source": [
        ""
      ],
      "metadata": {
        "id": "tydc7Xd5h34v"
      },
      "execution_count": null,
      "outputs": []
    },
    {
      "cell_type": "markdown",
      "source": [
        "### K-Fold Cross Validation:\n",
        "fxns courtesy of Michel Kana via Medium: https://towardsdatascience.com/how-to-find-decision-tree-depth-via-cross-validation-2bf143f0f3d6  "
      ],
      "metadata": {
        "id": "6g0p7NJrh5EA"
      }
    },
    {
      "cell_type": "code",
      "source": [
        "# function for fitting trees of various depths on the training data using cross-validation\n",
        "def run_cross_validation_on_trees(x, y, tree_depths, cv=5, scoring='accuracy'):\n",
        "    cv_scores_list = []\n",
        "    cv_scores_std = []\n",
        "    cv_scores_mean = []\n",
        "    accuracy_scores = []\n",
        "    for depth in tree_depths:\n",
        "        tree_model = DecisionTreeClassifier(max_depth=depth)\n",
        "        cv_scores = cross_val_score(tree_model, x, y, cv=cv, scoring=scoring)\n",
        "        cv_scores_list.append(cv_scores)\n",
        "        cv_scores_mean.append(cv_scores.mean())\n",
        "        cv_scores_std.append(cv_scores.std())\n",
        "        accuracy_scores.append(tree_model.fit(x, y).score(x, y))\n",
        "    cv_scores_mean = np.array(cv_scores_mean)\n",
        "    cv_scores_std = np.array(cv_scores_std)\n",
        "    accuracy_scores = np.array(accuracy_scores)\n",
        "    return cv_scores_mean, cv_scores_std, accuracy_scores\n",
        "  \n",
        "# function for plotting cross-validation results\n",
        "def plot_cross_validation_on_trees(depths, cv_scores_mean, cv_scores_std, accuracy_scores, title):\n",
        "    fig, ax = plt.subplots(1,1, figsize=(15,5))\n",
        "    ax.plot(depths, cv_scores_mean, '-o', label='mean cross-validation accuracy', alpha=0.9)\n",
        "    ax.fill_between(depths, cv_scores_mean-2*cv_scores_std, cv_scores_mean+2*cv_scores_std, alpha=0.2)\n",
        "    ylim = plt.ylim()\n",
        "    ax.plot(depths, accuracy_scores, '-*', label='train accuracy', alpha=0.9)\n",
        "    ax.set_title(title, fontsize=16)\n",
        "    ax.set_xlabel('Tree depth', fontsize=14)\n",
        "    ax.set_ylabel('Accuracy', fontsize=14)\n",
        "    ax.set_ylim(ylim)\n",
        "    ax.set_xticks(depths)\n",
        "    ax.legend()\n",
        "\n",
        "# fitting trees of depth 1 to 24\n",
        "sm_tree_depths = range(1,25)\n",
        "sm_cv_scores_mean, sm_cv_scores_std, sm_accuracy_scores = run_cross_validation_on_trees(x_train, y_train, sm_tree_depths)\n",
        "\n",
        "# plotting accuracy\n",
        "plot_cross_validation_on_trees(sm_tree_depths, sm_cv_scores_mean, sm_cv_scores_std, sm_accuracy_scores, \n",
        "                               'Accuracy per decision tree depth on training data')\n"
      ],
      "metadata": {
        "colab": {
          "base_uri": "https://localhost:8080/",
          "height": 356
        },
        "id": "0pQWNapAh6vj",
        "outputId": "08ddf1ae-ead2-4b6d-84b0-976c71c6cf07"
      },
      "execution_count": null,
      "outputs": [
        {
          "output_type": "display_data",
          "data": {
            "text/plain": [
              "<Figure size 1080x360 with 1 Axes>"
            ],
            "image/png": "[encoded data removed]"
          },
          "metadata": {
            "needs_background": "light"
          }
        }
      ]
    },
    {
      "cell_type": "code",
      "source": [
        "idx_max = sm_cv_scores_mean.argmax()\n",
        "sm_best_tree_depth = sm_tree_depths[idx_max]\n",
        "sm_best_tree_cv_score = sm_cv_scores_mean[idx_max]\n",
        "sm_best_tree_cv_score_std = sm_cv_scores_std[idx_max]\n",
        "print('The depth-{} tree achieves the best mean cross-validation accuracy {} +/- {}% on training dataset'.format(\n",
        "      sm_best_tree_depth, round(sm_best_tree_cv_score*100,5), round(sm_best_tree_cv_score_std*100, 5)))"
      ],
      "metadata": {
        "colab": {
          "base_uri": "https://localhost:8080/"
        },
        "id": "yvPMRyflh7dv",
        "outputId": "d0a7cd01-bc6e-4a4b-a182-f1761b5f3f4a"
      },
      "execution_count": null,
      "outputs": [
        {
          "output_type": "stream",
          "name": "stdout",
          "text": [
            "The depth-13 tree achieves the best mean cross-validation accuracy 94.87393 +/- 0.42682% on training dataset\n"
          ]
        }
      ]
    },
    {
      "cell_type": "code",
      "source": [
        "# function for training and evaluating a tree\n",
        "def run_single_tree(x_train, y_train, x_test, y_test, depth):\n",
        "    model = DecisionTreeClassifier(max_depth=depth).fit(x_train, y_train)\n",
        "    accuracy_train = model.score(x_train, y_train)\n",
        "    accuracy_test = model.score(x_test, y_test)\n",
        "    print('Single tree depth: ', depth)\n",
        "    print('Accuracy, Training Set: ', round(accuracy_train*100,5), '%')\n",
        "    print('Accuracy, Test Set: ', round(accuracy_test*100,5), '%')\n",
        "    return accuracy_train, accuracy_test\n",
        "  \n",
        "\n",
        "# train and evaluate a 5-depth tree\n",
        "sm_best_tree_accuracy_train, sm_best_tree_accuracy_test = run_single_tree(x_train, y_train, \n",
        "                                                                          x_test, y_test, \n",
        "                                                                          sm_best_tree_depth)"
      ],
      "metadata": {
        "colab": {
          "base_uri": "https://localhost:8080/"
        },
        "id": "tsJf0FisiYrI",
        "outputId": "fbcefcef-dc3b-4c03-ea47-bba3ba5e8020"
      },
      "execution_count": null,
      "outputs": [
        {
          "output_type": "stream",
          "name": "stdout",
          "text": [
            "Single tree depth:  13\n",
            "Accuracy, Training Set:  98.32348 %\n",
            "Accuracy, Test Set:  95.29667 %\n"
          ]
        }
      ]
    },
    {
      "cell_type": "code",
      "source": [
        "%%shell\n",
        "jupyter nbconvert --to html ///content/McMillen_PGAIML_Capstone_Cybersecurity.ipynb"
      ],
      "metadata": {
        "id": "W0TvXHLyjs2j",
        "colab": {
          "base_uri": "https://localhost:8080/",
          "height": 1000
        },
        "outputId": "66baa6ee-d679-4747-85f7-c62ae9e5c1bb"
      },
      "execution_count": 50,
      "outputs": [
        {
          "output_type": "stream",
          "name": "stdout",
          "text": [
            "[NbConvertApp] WARNING | pattern '///content/McMillen_PGAIML_Capstone_Cybersecurity.ipynb' matched no files\n",
            "This application is used to convert notebook files (*.ipynb)\n",
            "        to various other formats.\n",
            "\n",
            "        WARNING: THE COMMANDLINE INTERFACE MAY CHANGE IN FUTURE RELEASES.\n",
            "\n",
            "Options\n",
            "=======\n",
            "The options below are convenience aliases to configurable class-options,\n",
            "as listed in the \"Equivalent to\" description-line of the aliases.\n",
            "To see all configurable class-options for some <cmd>, use:\n",
            "    <cmd> --help-all\n",
            "\n",
            "--debug\n",
            "    set log level to logging.DEBUG (maximize logging output)\n",
            "    Equivalent to: [--Application.log_level=10]\n",
            "--show-config\n",
            "    Show the application's configuration (human-readable format)\n",
            "    Equivalent to: [--Application.show_config=True]\n",
            "--show-config-json\n",
            "    Show the application's configuration (json format)\n",
            "    Equivalent to: [--Application.show_config_json=True]\n",
            "--generate-config\n",
            "    generate default config file\n",
            "    Equivalent to: [--JupyterApp.generate_config=True]\n",
            "-y\n",
            "    Answer yes to any questions instead of prompting.\n",
            "    Equivalent to: [--JupyterApp.answer_yes=True]\n",
            "--execute\n",
            "    Execute the notebook prior to export.\n",
            "    Equivalent to: [--ExecutePreprocessor.enabled=True]\n",
            "--allow-errors\n",
            "    Continue notebook execution even if one of the cells throws an error and include the error message in the cell output (the default behaviour is to abort conversion). This flag is only relevant if '--execute' was specified, too.\n",
            "    Equivalent to: [--ExecutePreprocessor.allow_errors=True]\n",
            "--stdin\n",
            "    read a single notebook file from stdin. Write the resulting notebook with default basename 'notebook.*'\n",
            "    Equivalent to: [--NbConvertApp.from_stdin=True]\n",
            "--stdout\n",
            "    Write notebook output to stdout instead of files.\n",
            "    Equivalent to: [--NbConvertApp.writer_class=StdoutWriter]\n",
            "--inplace\n",
            "    Run nbconvert in place, overwriting the existing notebook (only \n",
            "            relevant when converting to notebook format)\n",
            "    Equivalent to: [--NbConvertApp.use_output_suffix=False --NbConvertApp.export_format=notebook --FilesWriter.build_directory=]\n",
            "--clear-output\n",
            "    Clear output of current file and save in place, \n",
            "            overwriting the existing notebook.\n",
            "    Equivalent to: [--NbConvertApp.use_output_suffix=False --NbConvertApp.export_format=notebook --FilesWriter.build_directory= --ClearOutputPreprocessor.enabled=True]\n",
            "--no-prompt\n",
            "    Exclude input and output prompts from converted document.\n",
            "    Equivalent to: [--TemplateExporter.exclude_input_prompt=True --TemplateExporter.exclude_output_prompt=True]\n",
            "--no-input\n",
            "    Exclude input cells and output prompts from converted document. \n",
            "            This mode is ideal for generating code-free reports.\n",
            "    Equivalent to: [--TemplateExporter.exclude_output_prompt=True --TemplateExporter.exclude_input=True]\n",
            "--log-level=<Enum>\n",
            "    Set the log level by value or name.\n",
            "    Choices: any of [0, 10, 20, 30, 40, 50, 'DEBUG', 'INFO', 'WARN', 'ERROR', 'CRITICAL']\n",
            "    Default: 30\n",
            "    Equivalent to: [--Application.log_level]\n",
            "--config=<Unicode>\n",
            "    Full path of a config file.\n",
            "    Default: ''\n",
            "    Equivalent to: [--JupyterApp.config_file]\n",
            "--to=<Unicode>\n",
            "    The export format to be used, either one of the built-in formats\n",
            "            ['asciidoc', 'custom', 'html', 'latex', 'markdown', 'notebook', 'pdf', 'python', 'rst', 'script', 'slides']\n",
            "            or a dotted object name that represents the import path for an\n",
            "            `Exporter` class\n",
            "    Default: 'html'\n",
            "    Equivalent to: [--NbConvertApp.export_format]\n",
            "--template=<Unicode>\n",
            "    Name of the template file to use\n",
            "    Default: ''\n",
            "    Equivalent to: [--TemplateExporter.template_file]\n",
            "--writer=<DottedObjectName>\n",
            "    Writer class used to write the \n",
            "                                        results of the conversion\n",
            "    Default: 'FilesWriter'\n",
            "    Equivalent to: [--NbConvertApp.writer_class]\n",
            "--post=<DottedOrNone>\n",
            "    PostProcessor class used to write the\n",
            "                                        results of the conversion\n",
            "    Default: ''\n",
            "    Equivalent to: [--NbConvertApp.postprocessor_class]\n",
            "--output=<Unicode>\n",
            "    overwrite base name use for output files.\n",
            "                can only be used when converting one notebook at a time.\n",
            "    Default: ''\n",
            "    Equivalent to: [--NbConvertApp.output_base]\n",
            "--output-dir=<Unicode>\n",
            "    Directory to write output(s) to. Defaults\n",
            "                                  to output to the directory of each notebook. To recover\n",
            "                                  previous default behaviour (outputting to the current \n",
            "                                  working directory) use . as the flag value.\n",
            "    Default: ''\n",
            "    Equivalent to: [--FilesWriter.build_directory]\n",
            "--reveal-prefix=<Unicode>\n",
            "    The URL prefix for reveal.js (version 3.x).\n",
            "            This defaults to the reveal CDN, but can be any url pointing to a copy \n",
            "            of reveal.js. \n",
            "            For speaker notes to work, this must be a relative path to a local \n",
            "            copy of reveal.js: e.g., \"reveal.js\".\n",
            "            If a relative path is given, it must be a subdirectory of the\n",
            "            current directory (from which the server is run).\n",
            "            See the usage documentation\n",
            "            (https://nbconvert.readthedocs.io/en/latest/usage.html#reveal-js-html-slideshow)\n",
            "            for more details.\n",
            "    Default: ''\n",
            "    Equivalent to: [--SlidesExporter.reveal_url_prefix]\n",
            "--nbformat=<Enum>\n",
            "    The nbformat version to write.\n",
            "            Use this to downgrade notebooks.\n",
            "    Choices: any of [1, 2, 3, 4]\n",
            "    Default: 4\n",
            "    Equivalent to: [--NotebookExporter.nbformat_version]\n",
            "\n",
            "Examples\n",
            "--------\n",
            "\n",
            "    The simplest way to use nbconvert is\n",
            "\n",
            "            > jupyter nbconvert mynotebook.ipynb\n",
            "\n",
            "            which will convert mynotebook.ipynb to the default format (probably HTML).\n",
            "\n",
            "            You can specify the export format with `--to`.\n",
            "            Options include ['asciidoc', 'custom', 'html', 'latex', 'markdown', 'notebook', 'pdf', 'python', 'rst', 'script', 'slides'].\n",
            "\n",
            "            > jupyter nbconvert --to latex mynotebook.ipynb\n",
            "\n",
            "            Both HTML and LaTeX support multiple output templates. LaTeX includes\n",
            "            'base', 'article' and 'report'.  HTML includes 'basic' and 'full'. You\n",
            "            can specify the flavor of the format used.\n",
            "\n",
            "            > jupyter nbconvert --to html --template basic mynotebook.ipynb\n",
            "\n",
            "            You can also pipe the output to stdout, rather than a file\n",
            "\n",
            "            > jupyter nbconvert mynotebook.ipynb --stdout\n",
            "\n",
            "            PDF is generated via latex\n",
            "\n",
            "            > jupyter nbconvert mynotebook.ipynb --to pdf\n",
            "\n",
            "            You can get (and serve) a Reveal.js-powered slideshow\n",
            "\n",
            "            > jupyter nbconvert myslides.ipynb --to slides --post serve\n",
            "\n",
            "            Multiple notebooks can be given at the command line in a couple of \n",
            "            different ways:\n",
            "\n",
            "            > jupyter nbconvert notebook*.ipynb\n",
            "            > jupyter nbconvert notebook1.ipynb notebook2.ipynb\n",
            "\n",
            "            or you can specify the notebooks list in a config file, containing::\n",
            "\n",
            "                c.NbConvertApp.notebooks = [\"my_notebook.ipynb\"]\n",
            "\n",
            "            > jupyter nbconvert --config mycfg.py\n",
            "\n",
            "To see all available configurables, use `--help-all`.\n",
            "\n"
          ]
        },
        {
          "output_type": "error",
          "ename": "CalledProcessError",
          "evalue": "ignored",
          "traceback": [
            "\u001b[0;31m---------------------------------------------------------------------------\u001b[0m",
            "\u001b[0;31mCalledProcessError\u001b[0m                        Traceback (most recent call last)",
            "\u001b[0;32m<ipython-input-50-23406e37bebd>\u001b[0m in \u001b[0;36m<module>\u001b[0;34m()\u001b[0m\n\u001b[0;32m----> 1\u001b[0;31m \u001b[0mget_ipython\u001b[0m\u001b[0;34m(\u001b[0m\u001b[0;34m)\u001b[0m\u001b[0;34m.\u001b[0m\u001b[0mrun_cell_magic\u001b[0m\u001b[0;34m(\u001b[0m\u001b[0;34m'shell'\u001b[0m\u001b[0;34m,\u001b[0m \u001b[0;34m''\u001b[0m\u001b[0;34m,\u001b[0m \u001b[0;34m'jupyter nbconvert --to html ///content/McMillen_PGAIML_Capstone_Cybersecurity.ipynb'\u001b[0m\u001b[0;34m)\u001b[0m\u001b[0;34m\u001b[0m\u001b[0;34m\u001b[0m\u001b[0m\n\u001b[0m",
            "\u001b[0;32m/usr/local/lib/python3.7/dist-packages/IPython/core/interactiveshell.py\u001b[0m in \u001b[0;36mrun_cell_magic\u001b[0;34m(self, magic_name, line, cell)\u001b[0m\n\u001b[1;32m   2115\u001b[0m             \u001b[0mmagic_arg_s\u001b[0m \u001b[0;34m=\u001b[0m \u001b[0mself\u001b[0m\u001b[0;34m.\u001b[0m\u001b[0mvar_expand\u001b[0m\u001b[0;34m(\u001b[0m\u001b[0mline\u001b[0m\u001b[0;34m,\u001b[0m \u001b[0mstack_depth\u001b[0m\u001b[0;34m)\u001b[0m\u001b[0;34m\u001b[0m\u001b[0;34m\u001b[0m\u001b[0m\n\u001b[1;32m   2116\u001b[0m             \u001b[0;32mwith\u001b[0m \u001b[0mself\u001b[0m\u001b[0;34m.\u001b[0m\u001b[0mbuiltin_trap\u001b[0m\u001b[0;34m:\u001b[0m\u001b[0;34m\u001b[0m\u001b[0;34m\u001b[0m\u001b[0m\n\u001b[0;32m-> 2117\u001b[0;31m                 \u001b[0mresult\u001b[0m \u001b[0;34m=\u001b[0m \u001b[0mfn\u001b[0m\u001b[0;34m(\u001b[0m\u001b[0mmagic_arg_s\u001b[0m\u001b[0;34m,\u001b[0m \u001b[0mcell\u001b[0m\u001b[0;34m)\u001b[0m\u001b[0;34m\u001b[0m\u001b[0;34m\u001b[0m\u001b[0m\n\u001b[0m\u001b[1;32m   2118\u001b[0m             \u001b[0;32mreturn\u001b[0m \u001b[0mresult\u001b[0m\u001b[0;34m\u001b[0m\u001b[0;34m\u001b[0m\u001b[0m\n\u001b[1;32m   2119\u001b[0m \u001b[0;34m\u001b[0m\u001b[0m\n",
            "\u001b[0;32m/usr/local/lib/python3.7/dist-packages/google/colab/_system_commands.py\u001b[0m in \u001b[0;36m_shell_cell_magic\u001b[0;34m(args, cmd)\u001b[0m\n\u001b[1;32m    111\u001b[0m   \u001b[0mresult\u001b[0m \u001b[0;34m=\u001b[0m \u001b[0m_run_command\u001b[0m\u001b[0;34m(\u001b[0m\u001b[0mcmd\u001b[0m\u001b[0;34m,\u001b[0m \u001b[0mclear_streamed_output\u001b[0m\u001b[0;34m=\u001b[0m\u001b[0;32mFalse\u001b[0m\u001b[0;34m)\u001b[0m\u001b[0;34m\u001b[0m\u001b[0;34m\u001b[0m\u001b[0m\n\u001b[1;32m    112\u001b[0m   \u001b[0;32mif\u001b[0m \u001b[0;32mnot\u001b[0m \u001b[0mparsed_args\u001b[0m\u001b[0;34m.\u001b[0m\u001b[0mignore_errors\u001b[0m\u001b[0;34m:\u001b[0m\u001b[0;34m\u001b[0m\u001b[0;34m\u001b[0m\u001b[0m\n\u001b[0;32m--> 113\u001b[0;31m     \u001b[0mresult\u001b[0m\u001b[0;34m.\u001b[0m\u001b[0mcheck_returncode\u001b[0m\u001b[0;34m(\u001b[0m\u001b[0;34m)\u001b[0m\u001b[0;34m\u001b[0m\u001b[0;34m\u001b[0m\u001b[0m\n\u001b[0m\u001b[1;32m    114\u001b[0m   \u001b[0;32mreturn\u001b[0m \u001b[0mresult\u001b[0m\u001b[0;34m\u001b[0m\u001b[0;34m\u001b[0m\u001b[0m\n\u001b[1;32m    115\u001b[0m \u001b[0;34m\u001b[0m\u001b[0m\n",
            "\u001b[0;32m/usr/local/lib/python3.7/dist-packages/google/colab/_system_commands.py\u001b[0m in \u001b[0;36mcheck_returncode\u001b[0;34m(self)\u001b[0m\n\u001b[1;32m    137\u001b[0m     \u001b[0;32mif\u001b[0m \u001b[0mself\u001b[0m\u001b[0;34m.\u001b[0m\u001b[0mreturncode\u001b[0m\u001b[0;34m:\u001b[0m\u001b[0;34m\u001b[0m\u001b[0;34m\u001b[0m\u001b[0m\n\u001b[1;32m    138\u001b[0m       raise subprocess.CalledProcessError(\n\u001b[0;32m--> 139\u001b[0;31m           returncode=self.returncode, cmd=self.args, output=self.output)\n\u001b[0m\u001b[1;32m    140\u001b[0m \u001b[0;34m\u001b[0m\u001b[0m\n\u001b[1;32m    141\u001b[0m   \u001b[0;32mdef\u001b[0m \u001b[0m_repr_pretty_\u001b[0m\u001b[0;34m(\u001b[0m\u001b[0mself\u001b[0m\u001b[0;34m,\u001b[0m \u001b[0mp\u001b[0m\u001b[0;34m,\u001b[0m \u001b[0mcycle\u001b[0m\u001b[0;34m)\u001b[0m\u001b[0;34m:\u001b[0m  \u001b[0;31m# pylint:disable=unused-argument\u001b[0m\u001b[0;34m\u001b[0m\u001b[0;34m\u001b[0m\u001b[0m\n",
            "\u001b[0;31mCalledProcessError\u001b[0m: Command 'jupyter nbconvert --to html ///content/McMillen_PGAIML_Capstone_Cybersecurity.ipynb' returned non-zero exit status 255."
          ]
        }
      ]
    },
    {
      "cell_type": "code",
      "source": [
        ""
      ],
      "metadata": {
        "id": "wwpYEgavkL7b"
      },
      "execution_count": null,
      "outputs": []
    }
  ]
}